{
 "cells": [
  {
   "cell_type": "code",
   "execution_count": 1,
   "metadata": {},
   "outputs": [
    {
     "name": "stderr",
     "output_type": "stream",
     "text": [
      "c:\\Users\\mohammed\\AppData\\Local\\Programs\\Python\\Python311\\Lib\\site-packages\\tqdm\\auto.py:21: TqdmWarning: IProgress not found. Please update jupyter and ipywidgets. See https://ipywidgets.readthedocs.io/en/stable/user_install.html\n",
      "  from .autonotebook import tqdm as notebook_tqdm\n"
     ]
    }
   ],
   "source": [
    "import sys\n",
    "import os\n",
    "# Add this line at the very start of your notebook\n",
    "sys.path.append(os.path.abspath('..'))  # if notebook is in notebooks/ directory\n",
    "# or\n",
    "sys.path.append(os.path.abspath('.'))   # if notebook is in root directory\n",
    "\n",
    "# Then import your modules\n",
    "from src.Training.trainer import Trainer\n",
    "from src.Training.solver import Solver\n",
    "from src.Training.NeuralPINN import PINO\n",
    "from src.Models.models import PINN_Net, CustomPINN"
   ]
  },
  {
   "cell_type": "code",
   "execution_count": 2,
   "metadata": {},
   "outputs": [
    {
     "name": "stderr",
     "output_type": "stream",
     "text": [
      "c:\\Users\\mohammed\\AppData\\Local\\Programs\\Python\\Python311\\Lib\\site-packages\\torch\\functional.py:534: UserWarning: torch.meshgrid: in an upcoming release, it will be required to pass the indexing argument. (Triggered internally at C:\\actions-runner\\_work\\pytorch\\pytorch\\builder\\windows\\pytorch\\aten\\src\\ATen\\native\\TensorShape.cpp:3596.)\n",
      "  return _VF.meshgrid(tensors, **kwargs)  # type: ignore[attr-defined]\n"
     ]
    },
    {
     "name": "stdout",
     "output_type": "stream",
     "text": [
      "Epoch 0 Loss 4.558801651000977 , pde loss 4.471793174743652 , BC loss 0.08700846880674362\n",
      "Epoch 100 Loss 0.00641611497849226 , pde loss 0.0063982680439949036 , BC loss 1.7846734408522025e-05\n",
      "Epoch 200 Loss 0.0017335939919576049 , pde loss 0.0017227653879672289 , BC loss 1.0828594895428978e-05\n",
      "Epoch 300 Loss 0.000838779320474714 , pde loss 0.0008292790735140443 , BC loss 9.500270607532002e-06\n",
      "Epoch 400 Loss 0.0005126578034833074 , pde loss 0.0005034533096477389 , BC loss 9.204472917190287e-06\n"
     ]
    }
   ],
   "source": [
    "import torch\n",
    "\n",
    "x = torch.linspace(-1, 1, 32 , requires_grad = True)\n",
    "y = torch.linspace(-1, 1, 32 , requires_grad= True)\n",
    "X, Y = torch.meshgrid(x, y)\n",
    "X = X.unsqueeze(-1)\n",
    "Y = Y.unsqueeze(-1)\n",
    "u_exact = torch.exp(-10*(X**2 + Y**2))\n",
    "f_exact = torch.exp(-10*(X**2 + Y**2))*(-20)*(1-20*X**2) + torch.exp(-10*(X**2 + Y**2))*(-20)*(1-20*Y**2)\n",
    "\n",
    "\n",
    "u_left = u_exact[:, 0]\n",
    "u_right = u_exact[:, -1]\n",
    "u_bottom = u_exact[0, :]\n",
    "u_top = u_exact[-1, :]\n",
    "\n",
    "u_exact = lambda x, y, p: torch.exp(p*(-x**2 - y**2))\n",
    "f_exact = lambda x, y, p: (-4*p + 4*p*p*(x*x + y*y)) * torch.exp(p*(-x*x - y*y))\n",
    "\n",
    "BC = [u_left , u_right , u_bottom , u_top]\n",
    "exact_u = torch.exp(-1*(X**2 + Y**2))\n",
    "model = PINO(1,1,100,2)\n",
    "model.optimizer = torch.optim.Adam(model.model.parameters(), lr=0.01)\n",
    "model.train(500, X , Y , f_exact , BC , None )"
   ]
  },
  {
   "cell_type": "code",
   "execution_count": 3,
   "metadata": {},
   "outputs": [
    {
     "name": "stderr",
     "output_type": "stream",
     "text": [
      "Training:   0%|          | 0/2000 [00:00<?, ?epoch/s]"
     ]
    },
    {
     "name": "stdout",
     "output_type": "stream",
     "text": [
      "Training the model...\n"
     ]
    },
    {
     "name": "stderr",
     "output_type": "stream",
     "text": [
      "Training: 100%|██████████| 2000/2000 [00:51<00:00, 38.54epoch/s, Loss=0.0004, MSE=2.3117e-08]\n"
     ]
    }
   ],
   "source": [
    "import torch\n",
    "device = \"cuda\" if torch.cuda.is_available() else \"cpu\"\n",
    "\n",
    "def derivation( u, x , order = 1):\n",
    "    for _ in range(order):\n",
    "        u = torch.autograd.grad(u, x, grad_outputs=torch.ones_like(u), create_graph=True,retain_graph=True,allow_unused=True)[0]\n",
    "    return u  \n",
    "operator = lambda u,x: derivation(u, x, order=2) \n",
    "f= lambda x: (-1.6 * (torch.pi**2) * torch.sin(torch.pi * x * 4) - 50 * torch.tanh(5 * x) * (1 - torch.tanh(5 * x)**2))\n",
    "u_exact = lambda x:  0.1 * torch.sin(torch.pi * x * 4) + torch.tanh(5 * x)\n",
    "domaine = [-1,1]\n",
    "coords = [torch.linspace(-1, 1, 100).to(device)]\n",
    "\n",
    "\n",
    "solver = Solver(\n",
    "        hidden_size=100,\n",
    "        num_layers=1,\n",
    "        learning_rate=0.01,\n",
    "        device=None,\n",
    "        wandb_logs=False,\n",
    "        name=None\n",
    ")\n",
    "\n",
    "model , mse , loss = solver.solve(dimensions =1 , \n",
    "                                    coords = coords , \n",
    "                                    source_function= f , \n",
    "                                    operator= operator, \n",
    "                                    u_exact= u_exact , \n",
    "                                    epochs = 2000 , num_points = 20,\n",
    "                                    num_test_points = 500 , \n",
    "                                    adaptive_weights = True , \n",
    "                                    adaptive_collocation = True ,\n",
    "                                    update_rate = 100 ,\n",
    "                                    plot = False )"
   ]
  }
 ],
 "metadata": {
  "kernelspec": {
   "display_name": "Python 3",
   "language": "python",
   "name": "python3"
  },
  "language_info": {
   "codemirror_mode": {
    "name": "ipython",
    "version": 3
   },
   "file_extension": ".py",
   "mimetype": "text/x-python",
   "name": "python",
   "nbconvert_exporter": "python",
   "pygments_lexer": "ipython3",
   "version": "3.11.2"
  }
 },
 "nbformat": 4,
 "nbformat_minor": 2
}
